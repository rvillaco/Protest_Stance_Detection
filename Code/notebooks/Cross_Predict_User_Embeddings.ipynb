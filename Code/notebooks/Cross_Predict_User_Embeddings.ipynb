{
 "cells": [
  {
   "cell_type": "markdown",
   "id": "edeed576-3802-4826-a8d7-f011100c1635",
   "metadata": {},
   "source": [
    "# Predict User Embeddings"
   ]
  },
  {
   "cell_type": "markdown",
   "id": "7a8ef69a-544f-4c46-8ba9-eeb4b52ea749",
   "metadata": {},
   "source": [
    "Load Best Model"
   ]
  },
  {
   "cell_type": "code",
   "execution_count": 1,
   "id": "e2d2553a-f40d-47f2-a50c-a341d88066aa",
   "metadata": {},
   "outputs": [],
   "source": [
    "import torch, os\n",
    "\n",
    "countries = ['Ecuador', 'Colombia', 'Bolivia', 'Chile']\n",
    "\n",
    "COUNTRY = countries[3]\n",
    "\n",
    "## Global Parameters\n",
    "MAX_SEQ_LEN, MAX_TW_LEN = 128, 15\n",
    "BATCH_SIZE = 64\n",
    "SEED = 1911\n",
    "INTERACTION_TYPES = ['<cls>', '<pad>', 'Original', 'Quote', 'Reply', 'Retweet']\n",
    "\n",
    "device = torch.device(\"cuda:0\" if torch.cuda.is_available() else \"cpu\")"
   ]
  },
  {
   "cell_type": "code",
   "execution_count": 2,
   "id": "4715caba-6817-4a1a-8db7-bcabf0d5f984",
   "metadata": {},
   "outputs": [
    {
     "name": "stderr",
     "output_type": "stream",
     "text": [
      "Some weights of the model checkpoint at E:\\OneDrive\\Research Group\\Papers\\Sudaka_BETO\\Data\\ROP_Task\\RoBETO_Model were not used when initializing RobertaModel: ['lm_head.bias', 'lm_head.layer_norm.bias', 'lm_head.layer_norm.weight', 'lm_head.dense.weight', 'lm_head.dense.bias']\n",
      "- This IS expected if you are initializing RobertaModel from the checkpoint of a model trained on another task or with another architecture (e.g. initializing a BertForSequenceClassification model from a BertForPreTraining model).\n",
      "- This IS NOT expected if you are initializing RobertaModel from the checkpoint of a model that you expect to be exactly identical (initializing a BertForSequenceClassification model from a BertForSequenceClassification model).\n"
     ]
    },
    {
     "name": "stdout",
     "output_type": "stream",
     "text": [
      "\n"
     ]
    }
   ],
   "source": [
    "from UserModules.ModelConfiguration import *\n",
    "from UserModules.UserClassifier import User_Stance_Classifier\n",
    "\n",
    "tweet_enc_args = {\n",
    "    'Model_Dir': r'E:\\OneDrive\\Research Group\\Papers\\Sudaka_BETO\\Data\\ROP_Task\\RoBETO_Model', \n",
    "    'dropout': 0.1,\n",
    "    'activation': 'Tanh',\n",
    "    'freeze_bert_embeddings': True\n",
    "}\n",
    "\n",
    "tweetConfig = RoBERTaEncoderConfig(**tweet_enc_args)\n",
    "\n",
    "emb_params = {\n",
    "    'cls_idx': INTERACTION_TYPES.index('<cls>'),\n",
    "    'pad_idx': INTERACTION_TYPES.index('<pad>'),\n",
    "    'max_tweet_number': MAX_TW_LEN,\n",
    "    'dropout': 0.1,\n",
    "    'layer_norm_eps': 1e-12,\n",
    "    'tweet_type_number': len(INTERACTION_TYPES),\n",
    "    'mask_embeddings': True\n",
    "}\n",
    "\n",
    "embConfig = ModelEmbeddingsConfig(tweetConfig, **emb_params)\n",
    "\n",
    "user_params = { # This are the default parameters in UserEncoderConfig\n",
    "    'num_attention_heads': 6,\n",
    "    'intermidiate_size': 2048,\n",
    "    'num_encoder_layers': 3,\n",
    "    'transformer_activation': 'gelu',\n",
    "    'user_activation': 'Tanh',\n",
    "    'dropout': 0.1, \n",
    "    'initializer_range': 0.02,\n",
    "    'model_embedder_version': 'v3' # v3 leaves the CLS parameter for the type embeddings    \n",
    "}\n",
    "userConfig = UserEncoderConfig(embConfig, **user_params)\n",
    "\n",
    "# Instantiate model\n",
    "model = User_Stance_Classifier(num_classes = 2, user_config = userConfig)    \n",
    "model.to(device)\n",
    "print()"
   ]
  },
  {
   "cell_type": "code",
   "execution_count": 3,
   "id": "6366a49f-d134-492a-8e6f-227e15c44534",
   "metadata": {},
   "outputs": [
    {
     "name": "stdout",
     "output_type": "stream",
     "text": [
      "Model loaded from <== E:\\OneDrive\\Research Group\\Papers\\Target_Stance_Classification\\Results\\Best_Models\\Chile\n"
     ]
    },
    {
     "data": {
      "text/plain": [
       "0.001947219159196558"
      ]
     },
     "execution_count": 3,
     "metadata": {},
     "output_type": "execute_result"
    }
   ],
   "source": [
    "best_dir = r'E:\\OneDrive\\Research Group\\Papers\\Target_Stance_Classification\\Results\\Best_Models\\{}'.format(COUNTRY)\n",
    "\n",
    "state_dict = torch.load(os.path.join(best_dir, 'model_results.pth'), map_location=device)\n",
    "print(f'Model loaded from <== {best_dir}')\n",
    "\n",
    "model.load_state_dict(state_dict['model_state_dict'])\n",
    "state_dict['valid_loss']"
   ]
  },
  {
   "cell_type": "markdown",
   "id": "69e91891-00a6-4bf6-abfa-4fe5d47e6c09",
   "metadata": {},
   "source": [
    "Load Tokenizer"
   ]
  },
  {
   "cell_type": "code",
   "execution_count": 4,
   "id": "bba0cf6e-d76d-4b3a-8542-37a1acb0368e",
   "metadata": {},
   "outputs": [],
   "source": [
    "# Load BERT Tokenizer\n",
    "from transformers import BertModel, BertTokenizer\n",
    "from transformers import RobertaModel, RobertaTokenizerFast, AdamW, get_linear_schedule_with_warmup, BertForSequenceClassification\n",
    "import torch, numpy as np, random, os\n",
    "from tokenizers.processors import RobertaProcessing, BertProcessing\n",
    "\n",
    "#tokDir = r'/disk1/target_stance_classification/Data/RoBETO/roberta_es_tweet_tokenizer_bpe_50k' #Server Directory\n",
    "tokDir = r'E:\\OneDrive\\Research Group\\Papers\\Sudaka_BETO\\Data\\ROP_Task\\RoBETO_Model\\roberta_es_tweet_tokenizer_bpe_50k' #Office Directory\n",
    "\n",
    "tokenizer = RobertaTokenizerFast(os.path.join(tokDir, 'vocab.json'), os.path.join(tokDir, 'merges.txt'), \n",
    "                                tokenizer_file = os.path.join(tokDir, 'es_tweet_tokenizer_bpe_50k.json'), max_len = MAX_SEQ_LEN)\n",
    "# I use this instead of Robertaprocessing as it returns different IDs for the target and reply (it does not follow the Roberta Convention <s>...<\\s><\\s>...<\\s> and uses BERT's  <s>...<\\s>...<\\s>)        \n",
    "tokenizer._tokenizer.post_processor = BertProcessing( \n",
    "                                            (tokenizer.eos_token, tokenizer.eos_token_id),\n",
    "                                            (tokenizer.bos_token, tokenizer.bos_token_id)\n",
    "                                        )\n",
    "PAD_ID, CLS_ID, SEP_ID = tokenizer.pad_token_id, tokenizer.cls_token_id, tokenizer.sep_token_id"
   ]
  },
  {
   "cell_type": "markdown",
   "id": "f899b3ed-69bc-405f-a903-8bb3e50dc6b7",
   "metadata": {},
   "source": [
    "Process Datasets"
   ]
  },
  {
   "cell_type": "code",
   "execution_count": 5,
   "id": "91590417-4d5a-4bee-b705-b687f8cca0c1",
   "metadata": {},
   "outputs": [],
   "source": [
    "# Helper Function\n",
    "import pandas as pd\n",
    "from tqdm.notebook import tqdm, trange\n",
    "\n",
    "def predict(model, data_loader):\n",
    "    model.eval()\n",
    "    resultsDF_list = {'user_id': [], 'true_label': [], 'predicted_label':[]}\n",
    "    embeddings = []\n",
    "    with torch.no_grad():   \n",
    "        epoch_iterator = tqdm(data_loader, desc=\"Predicting\")\n",
    "        for step, batch in enumerate(epoch_iterator):        \n",
    "            # Get Batch Elements\n",
    "            batched_ids, input_ids, attention_mask = batch['batched_ids'], batch['input_ids'].to(device), batch['attention_mask'].to(device)\n",
    "            interaction_types, tweet_masks, labels = batch['interaction_types'].to(device), batch['tweet_masks'].to(device), batch['labels']\n",
    "            \n",
    "            # Predict\n",
    "            logits, user_emb = model(input_ids, attention_mask, interaction_types, tweet_masks) \n",
    "            _, preds = torch.max(logits, dim=1)\n",
    "            \n",
    "            # Compile results \n",
    "            embeddings.append(user_emb)\n",
    "            resultsDF_list['user_id'].extend(batched_ids)\n",
    "            if labels is None:\n",
    "                resultsDF_list['true_label'].extend([None] * len(batched_ids))\n",
    "            else:\n",
    "                resultsDF_list['true_label'].extend(list(labels.data.numpy()))\n",
    "            resultsDF_list['predicted_label'].extend(list(preds.data.cpu().numpy()))\n",
    "    embeddings = torch.cat(embeddings)\n",
    "    resultsDF = pd.DataFrame(resultsDF_list)\n",
    "    return resultsDF, embeddings\n",
    "\n",
    "def set_seed(seed):\n",
    "    random.seed(seed)\n",
    "    np.random.seed(seed)\n",
    "    torch.manual_seed(seed)\n",
    "    torch.cuda.manual_seed_all(seed)"
   ]
  },
  {
   "cell_type": "markdown",
   "id": "cd4dc293-a3b4-41b0-9bb0-a47643ea8efb",
   "metadata": {},
   "source": [
    "Weak Labeled Data"
   ]
  },
  {
   "cell_type": "code",
   "execution_count": 6,
   "id": "0df24fda-d2c9-40f9-9c41-1924ba056050",
   "metadata": {},
   "outputs": [
    {
     "name": "stdout",
     "output_type": "stream",
     "text": [
      "### Predicting stances in country: Ecuador\n",
      " ## Working with File: 2a-train_Ecuador_dataframe.csv\n"
     ]
    },
    {
     "data": {
      "application/vnd.jupyter.widget-view+json": {
       "model_id": "f06e5cd44dc4483ba9bec360a2e67a89",
       "version_major": 2,
       "version_minor": 0
      },
      "text/plain": [
       "Predicting:   0%|          | 0/973 [00:00<?, ?it/s]"
      ]
     },
     "metadata": {},
     "output_type": "display_data"
    },
    {
     "name": "stdout",
     "output_type": "stream",
     "text": [
      " ## Working with File: 2c-test_Ecuador_dataframe.csv\n"
     ]
    },
    {
     "data": {
      "application/vnd.jupyter.widget-view+json": {
       "model_id": "24b4c1cf10f34134be31e6a04faf093f",
       "version_major": 2,
       "version_minor": 0
      },
      "text/plain": [
       "Predicting:   0%|          | 0/111 [00:00<?, ?it/s]"
      ]
     },
     "metadata": {},
     "output_type": "display_data"
    },
    {
     "name": "stdout",
     "output_type": "stream",
     "text": [
      " ## Working with File: 2b-validation_Ecuador_dataframe.csv\n"
     ]
    },
    {
     "data": {
      "application/vnd.jupyter.widget-view+json": {
       "model_id": "47a630b66c2b45dba0b1f14aeacd42ee",
       "version_major": 2,
       "version_minor": 0
      },
      "text/plain": [
       "Predicting:   0%|          | 0/121 [00:00<?, ?it/s]"
      ]
     },
     "metadata": {},
     "output_type": "display_data"
    },
    {
     "name": "stdout",
     "output_type": "stream",
     "text": [
      "### Predicting stances in country: Colombia\n",
      " ## Working with File: 2a-train_Colombia_dataframe.csv\n"
     ]
    },
    {
     "data": {
      "application/vnd.jupyter.widget-view+json": {
       "model_id": "5689166b6aa84faf84b0ef7813a523cd",
       "version_major": 2,
       "version_minor": 0
      },
      "text/plain": [
       "Predicting:   0%|          | 0/1367 [00:00<?, ?it/s]"
      ]
     },
     "metadata": {},
     "output_type": "display_data"
    },
    {
     "name": "stdout",
     "output_type": "stream",
     "text": [
      " ## Working with File: 2c-test_Colombia_dataframe.csv\n"
     ]
    },
    {
     "data": {
      "application/vnd.jupyter.widget-view+json": {
       "model_id": "48ca3adffd0c43efa349b97413ad32a9",
       "version_major": 2,
       "version_minor": 0
      },
      "text/plain": [
       "Predicting:   0%|          | 0/156 [00:00<?, ?it/s]"
      ]
     },
     "metadata": {},
     "output_type": "display_data"
    },
    {
     "name": "stdout",
     "output_type": "stream",
     "text": [
      " ## Working with File: 2b-validation_Colombia_dataframe.csv\n"
     ]
    },
    {
     "data": {
      "application/vnd.jupyter.widget-view+json": {
       "model_id": "1f940c0ad58841d58a0023f6ee567ecb",
       "version_major": 2,
       "version_minor": 0
      },
      "text/plain": [
       "Predicting:   0%|          | 0/169 [00:00<?, ?it/s]"
      ]
     },
     "metadata": {},
     "output_type": "display_data"
    },
    {
     "name": "stdout",
     "output_type": "stream",
     "text": [
      "### Predicting stances in country: Bolivia\n",
      " ## Working with File: 2a-train_Bolivia_dataframe.csv\n"
     ]
    },
    {
     "data": {
      "application/vnd.jupyter.widget-view+json": {
       "model_id": "ed4503128497494a8204242a932e4739",
       "version_major": 2,
       "version_minor": 0
      },
      "text/plain": [
       "Predicting:   0%|          | 0/1428 [00:00<?, ?it/s]"
      ]
     },
     "metadata": {},
     "output_type": "display_data"
    },
    {
     "name": "stdout",
     "output_type": "stream",
     "text": [
      " ## Working with File: 2c-test_Bolivia_dataframe.csv\n"
     ]
    },
    {
     "data": {
      "application/vnd.jupyter.widget-view+json": {
       "model_id": "a434cf508bcc459c94fa3a9a8dc1dd4d",
       "version_major": 2,
       "version_minor": 0
      },
      "text/plain": [
       "Predicting:   0%|          | 0/160 [00:00<?, ?it/s]"
      ]
     },
     "metadata": {},
     "output_type": "display_data"
    },
    {
     "name": "stdout",
     "output_type": "stream",
     "text": [
      " ## Working with File: 2b-validation_Bolivia_dataframe.csv\n"
     ]
    },
    {
     "data": {
      "application/vnd.jupyter.widget-view+json": {
       "model_id": "4be319a298f941a0a310d6c6675b87a6",
       "version_major": 2,
       "version_minor": 0
      },
      "text/plain": [
       "Predicting:   0%|          | 0/177 [00:00<?, ?it/s]"
      ]
     },
     "metadata": {},
     "output_type": "display_data"
    }
   ],
   "source": [
    "from UserModules.StanceDataset import *\n",
    "from torch.utils.data import Dataset, DataLoader\n",
    "\n",
    "#workDir = r'/disk1/target_stance_classification/Data/Splits/Subsampled' # Server\n",
    "workDir = r'E:\\OneDrive\\Research Group\\Papers\\Target_Stance_Classification\\Data\\Splits\\Subsampled' # Office\n",
    "outDir = r'E:\\OneDrive\\Research Group\\Papers\\Target_Stance_Classification\\Results\\Predictions\\Cross_Predictions\\{}_Classifier'.format(COUNTRY)\n",
    "if not os.path.isdir(outDir):\n",
    "    os.mkdir(outDir)\n",
    "num_workers = 6\n",
    "\n",
    "countries = ['Chile', 'Ecuador', 'Colombia', 'Bolivia']\n",
    "for other_country in countries:\n",
    "    if other_country == COUNTRY:   continue\n",
    "    print('### Predicting stances in country: ' + other_country)\n",
    "    datasets = {'train': r\"2a-train_{}_dataframe.csv\".format(other_country), 'test': r\"2c-test_{}_dataframe.csv\".format(other_country), 'val': r\"2b-validation_{}_dataframe.csv\".format(other_country)}\n",
    "\n",
    "    for key, f in datasets.items():\n",
    "        set_seed(SEED)\n",
    "        print(' ## Working with File: ' + f)\n",
    "        # Define Training Dataset\n",
    "        stance_params = {\n",
    "            'user_file_name': os.path.join(workDir, f),\n",
    "            'tokenizer': tokenizer,\n",
    "            'interaction_categories': INTERACTION_TYPES,\n",
    "            'max_tw_per_user': MAX_TW_LEN,\n",
    "            'label_column': 'user_government_stance',\n",
    "            'SEED': SEED,\n",
    "            'max_seq_len':MAX_SEQ_LEN\n",
    "        }\n",
    "        dataConfig = StanceDatasetConfig(**stance_params)\n",
    "        data = StanceDataset(dataConfig)\n",
    "        data_loader =  DataLoader(data, batch_size = BATCH_SIZE, num_workers=num_workers, collate_fn = data._Stance_datacollator, shuffle = True)\n",
    "\n",
    "        resultsDF, embeddings = predict(model, data_loader)\n",
    "\n",
    "        # Save Results\n",
    "        resultsDF.to_csv(os.path.join(outDir, '{}_{}_predictions.csv'.format(other_country, key)), index = False)\n",
    "        torch.save(embeddings, os.path.join(outDir, '{}_{}_embeddings.pt'.format(other_country, key)))"
   ]
  },
  {
   "cell_type": "code",
   "execution_count": 6,
   "id": "f7d25689-258e-44c6-acbc-0f8131fe497a",
   "metadata": {},
   "outputs": [],
   "source": [
    "from UserModules.StanceDataset import *\n",
    "from torch.utils.data import Dataset, DataLoader\n"
   ]
  },
  {
   "cell_type": "markdown",
   "id": "9270e3c6-1582-4873-b002-28c7e4f6b3d7",
   "metadata": {},
   "source": [
    "Unlabeled Data"
   ]
  },
  {
   "cell_type": "code",
   "execution_count": 7,
   "id": "d6b22aac-0181-4cf3-9ca9-003eaa9136ab",
   "metadata": {},
   "outputs": [
    {
     "name": "stdout",
     "output_type": "stream",
     "text": [
      "### Predicting stances in country: Bolivia\n",
      " ## Working with File: 2-Bolivia_second_neighbor_df.csv\n"
     ]
    },
    {
     "data": {
      "application/vnd.jupyter.widget-view+json": {
       "model_id": "05617b0267224fc9b83c56fd2b0f4604",
       "version_major": 2,
       "version_minor": 0
      },
      "text/plain": [
       "Predicting:   0%|          | 0/1761 [00:00<?, ?it/s]"
      ]
     },
     "metadata": {},
     "output_type": "display_data"
    }
   ],
   "source": [
    "#workDir = r'/disk1/target_stance_classification/Data/Splits/Subsampled' # Server\n",
    "workDir = r'E:\\OneDrive\\Research Group\\Papers\\Target_Stance_Classification\\Data\\Splits\\Unlabeled' # Office\n",
    "outDir = r'E:\\OneDrive\\Research Group\\Papers\\Target_Stance_Classification\\Results\\Predictions\\Cross_Predictions\\{}_Classifier'.format(COUNTRY)\n",
    "\n",
    "for other_country in countries:\n",
    "    if other_country == COUNTRY:   continue\n",
    "    if other_country in set(['Ecuador', 'Colombia']):    continue\n",
    "    print('### Predicting stances in country: ' + other_country)\n",
    "    datasets = {'first': r\"2-{}_first_neighbor_df.csv\".format(other_country), 'second': r\"2-{}_second_neighbor_df.csv\".format(other_country)} # Second Failed\n",
    "    num_workers = 4\n",
    "    for key, f in datasets.items():\n",
    "        if key == 'first':    continue\n",
    "        set_seed(SEED)\n",
    "        print(' ## Working with File: ' + f)\n",
    "        # Define Training Dataset\n",
    "        stance_params = {\n",
    "            'user_file_name': os.path.join(workDir, f),\n",
    "            'tokenizer': tokenizer,\n",
    "            'interaction_categories': INTERACTION_TYPES,\n",
    "            'max_tw_per_user': MAX_TW_LEN,\n",
    "            'label_column': None,\n",
    "            'max_seq_len':MAX_SEQ_LEN\n",
    "        }\n",
    "\n",
    "        dataConfig = StanceDatasetConfig(**stance_params)\n",
    "        data = StanceDataset(dataConfig)\n",
    "        data_loader =  DataLoader(data, batch_size = BATCH_SIZE, num_workers=num_workers, collate_fn = data._Stance_datacollator, shuffle = True)\n",
    "\n",
    "        resultsDF, embeddings = predict(model, data_loader)\n",
    "\n",
    "        # Save Results\n",
    "        resultsDF.to_csv(os.path.join(outDir, '{}_{}_neighbor_predictions.csv'.format(other_country, key)), index = False)\n",
    "        torch.save(embeddings, os.path.join(outDir, '{}_{}_neighbor_embeddings.pt'.format(other_country, key)))"
   ]
  },
  {
   "cell_type": "code",
   "execution_count": null,
   "id": "421af52f-22b7-494f-9ddf-f7f99eccbc9e",
   "metadata": {},
   "outputs": [],
   "source": []
  },
  {
   "cell_type": "markdown",
   "id": "cfdc201a-e0b1-4002-98cd-832dbaf867aa",
   "metadata": {},
   "source": [
    "# Results\n"
   ]
  },
  {
   "cell_type": "code",
   "execution_count": null,
   "id": "590659d0-ddce-42cb-89bd-c40aaa38c2c2",
   "metadata": {},
   "outputs": [],
   "source": [
    "from IPython.display import display_html\n",
    "\n",
    "def print_results(self):\n",
    "    with self.output:\n",
    "        self.output.clear_output(wait = True)\n",
    "        # Prepare Training output\n",
    "        trainTemp = self.resultsDF[self.resultsDF.data_source == 'training'].drop(columns = 'data_source')\n",
    "        train_styler = trainTemp.style.set_table_attributes(\"style='display:inline'\").set_caption('Training')\n",
    "        # Prepare Development output\n",
    "        devTemp = self.resultsDF[self.resultsDF.data_source == 'development'].drop(columns = 'data_source')\n",
    "        dev_styler = devTemp.style.set_table_attributes(\"style='display:inline'\").set_caption('Development')\n",
    "\n",
    "        space = \"\\xa0\" * 10\n",
    "        display_html(train_styler._repr_html_() + space  + dev_styler._repr_html_(), raw=True)"
   ]
  },
  {
   "cell_type": "code",
   "execution_count": 21,
   "id": "91b8e69d-b1f6-4865-bcd6-faa2a78df65b",
   "metadata": {},
   "outputs": [
    {
     "name": "stdout",
     "output_type": "stream",
     "text": [
      " ############ Bolivia Classifier ############\n"
     ]
    },
    {
     "data": {
      "text/html": [
       "<div>\n",
       "<style scoped>\n",
       "    .dataframe tbody tr th:only-of-type {\n",
       "        vertical-align: middle;\n",
       "    }\n",
       "\n",
       "    .dataframe tbody tr th {\n",
       "        vertical-align: top;\n",
       "    }\n",
       "\n",
       "    .dataframe thead th {\n",
       "        text-align: right;\n",
       "    }\n",
       "</style>\n",
       "<table border=\"1\" class=\"dataframe\">\n",
       "  <thead>\n",
       "    <tr style=\"text-align: right;\">\n",
       "      <th></th>\n",
       "      <th>accuracy</th>\n",
       "      <th>f1</th>\n",
       "      <th>majority</th>\n",
       "    </tr>\n",
       "  </thead>\n",
       "  <tbody>\n",
       "    <tr>\n",
       "      <th>Ecuador</th>\n",
       "      <td>0.252541</td>\n",
       "      <td>0.214831</td>\n",
       "      <td>0.668103</td>\n",
       "    </tr>\n",
       "    <tr>\n",
       "      <th>Colombia</th>\n",
       "      <td>0.175506</td>\n",
       "      <td>0.173572</td>\n",
       "      <td>0.738234</td>\n",
       "    </tr>\n",
       "    <tr>\n",
       "      <th>Chile</th>\n",
       "      <td>0.099507</td>\n",
       "      <td>0.099499</td>\n",
       "      <td>0.868632</td>\n",
       "    </tr>\n",
       "  </tbody>\n",
       "</table>\n",
       "</div>"
      ],
      "text/plain": [
       "          accuracy        f1  majority\n",
       "Ecuador   0.252541  0.214831  0.668103\n",
       "Colombia  0.175506  0.173572  0.738234\n",
       "Chile     0.099507  0.099499  0.868632"
      ]
     },
     "metadata": {},
     "output_type": "display_data"
    },
    {
     "name": "stdout",
     "output_type": "stream",
     "text": [
      " ############ Ecuador Classifier ############\n"
     ]
    },
    {
     "data": {
      "text/html": [
       "<div>\n",
       "<style scoped>\n",
       "    .dataframe tbody tr th:only-of-type {\n",
       "        vertical-align: middle;\n",
       "    }\n",
       "\n",
       "    .dataframe tbody tr th {\n",
       "        vertical-align: top;\n",
       "    }\n",
       "\n",
       "    .dataframe thead th {\n",
       "        text-align: right;\n",
       "    }\n",
       "</style>\n",
       "<table border=\"1\" class=\"dataframe\">\n",
       "  <thead>\n",
       "    <tr style=\"text-align: right;\">\n",
       "      <th></th>\n",
       "      <th>accuracy</th>\n",
       "      <th>f1</th>\n",
       "      <th>majority</th>\n",
       "    </tr>\n",
       "  </thead>\n",
       "  <tbody>\n",
       "    <tr>\n",
       "      <th>Bolivia</th>\n",
       "      <td>0.229658</td>\n",
       "      <td>0.211767</td>\n",
       "      <td>0.518435</td>\n",
       "    </tr>\n",
       "    <tr>\n",
       "      <th>Colombia</th>\n",
       "      <td>0.817378</td>\n",
       "      <td>0.783204</td>\n",
       "      <td>0.738234</td>\n",
       "    </tr>\n",
       "    <tr>\n",
       "      <th>Chile</th>\n",
       "      <td>0.921895</td>\n",
       "      <td>0.809180</td>\n",
       "      <td>0.868632</td>\n",
       "    </tr>\n",
       "  </tbody>\n",
       "</table>\n",
       "</div>"
      ],
      "text/plain": [
       "          accuracy        f1  majority\n",
       "Bolivia   0.229658  0.211767  0.518435\n",
       "Colombia  0.817378  0.783204  0.738234\n",
       "Chile     0.921895  0.809180  0.868632"
      ]
     },
     "metadata": {},
     "output_type": "display_data"
    },
    {
     "name": "stdout",
     "output_type": "stream",
     "text": [
      " ############ Colombia Classifier ############\n"
     ]
    },
    {
     "data": {
      "text/html": [
       "<div>\n",
       "<style scoped>\n",
       "    .dataframe tbody tr th:only-of-type {\n",
       "        vertical-align: middle;\n",
       "    }\n",
       "\n",
       "    .dataframe tbody tr th {\n",
       "        vertical-align: top;\n",
       "    }\n",
       "\n",
       "    .dataframe thead th {\n",
       "        text-align: right;\n",
       "    }\n",
       "</style>\n",
       "<table border=\"1\" class=\"dataframe\">\n",
       "  <thead>\n",
       "    <tr style=\"text-align: right;\">\n",
       "      <th></th>\n",
       "      <th>accuracy</th>\n",
       "      <th>f1</th>\n",
       "      <th>majority</th>\n",
       "    </tr>\n",
       "  </thead>\n",
       "  <tbody>\n",
       "    <tr>\n",
       "      <th>Ecuador</th>\n",
       "      <td>0.812483</td>\n",
       "      <td>0.788866</td>\n",
       "      <td>0.668103</td>\n",
       "    </tr>\n",
       "    <tr>\n",
       "      <th>Bolivia</th>\n",
       "      <td>0.391104</td>\n",
       "      <td>0.353229</td>\n",
       "      <td>0.518435</td>\n",
       "    </tr>\n",
       "    <tr>\n",
       "      <th>Chile</th>\n",
       "      <td>0.849993</td>\n",
       "      <td>0.752241</td>\n",
       "      <td>0.868632</td>\n",
       "    </tr>\n",
       "  </tbody>\n",
       "</table>\n",
       "</div>"
      ],
      "text/plain": [
       "         accuracy        f1  majority\n",
       "Ecuador  0.812483  0.788866  0.668103\n",
       "Bolivia  0.391104  0.353229  0.518435\n",
       "Chile    0.849993  0.752241  0.868632"
      ]
     },
     "metadata": {},
     "output_type": "display_data"
    },
    {
     "name": "stdout",
     "output_type": "stream",
     "text": [
      " ############ Chile Classifier ############\n"
     ]
    },
    {
     "data": {
      "text/html": [
       "<div>\n",
       "<style scoped>\n",
       "    .dataframe tbody tr th:only-of-type {\n",
       "        vertical-align: middle;\n",
       "    }\n",
       "\n",
       "    .dataframe tbody tr th {\n",
       "        vertical-align: top;\n",
       "    }\n",
       "\n",
       "    .dataframe thead th {\n",
       "        text-align: right;\n",
       "    }\n",
       "</style>\n",
       "<table border=\"1\" class=\"dataframe\">\n",
       "  <thead>\n",
       "    <tr style=\"text-align: right;\">\n",
       "      <th></th>\n",
       "      <th>accuracy</th>\n",
       "      <th>f1</th>\n",
       "      <th>majority</th>\n",
       "    </tr>\n",
       "  </thead>\n",
       "  <tbody>\n",
       "    <tr>\n",
       "      <th>Ecuador</th>\n",
       "      <td>0.848792</td>\n",
       "      <td>0.833961</td>\n",
       "      <td>0.668103</td>\n",
       "    </tr>\n",
       "    <tr>\n",
       "      <th>Bolivia</th>\n",
       "      <td>0.318923</td>\n",
       "      <td>0.308817</td>\n",
       "      <td>0.518435</td>\n",
       "    </tr>\n",
       "    <tr>\n",
       "      <th>Colombia</th>\n",
       "      <td>0.875994</td>\n",
       "      <td>0.848550</td>\n",
       "      <td>0.738234</td>\n",
       "    </tr>\n",
       "  </tbody>\n",
       "</table>\n",
       "</div>"
      ],
      "text/plain": [
       "          accuracy        f1  majority\n",
       "Ecuador   0.848792  0.833961  0.668103\n",
       "Bolivia   0.318923  0.308817  0.518435\n",
       "Colombia  0.875994  0.848550  0.738234"
      ]
     },
     "metadata": {},
     "output_type": "display_data"
    }
   ],
   "source": [
    "import pandas as pd, os, numpy as np\n",
    "from sklearn.metrics import  accuracy_score, f1_score\n",
    "\n",
    "workDir = r''\n",
    "main_classifier = ['Bolivia', 'Ecuador', 'Colombia', 'Chile']\n",
    "countries = ['Ecuador', 'Bolivia', 'Colombia', 'Chile']\n",
    "datasets = ['train', 'val', 'test']\n",
    "\n",
    "for main_c in main_classifier:\n",
    "    country_dir = r'{}\\{}_Classifier'.format(workDir, main_c)\n",
    "    result_dict = {'accuracy': {}, 'f1': {}}\n",
    "    for country in countries:\n",
    "        if main_c == country:    continue\n",
    "        result_dict[country] = {}\n",
    "        result_dict[country] = {}\n",
    "        true_lbl, pred_lbl = [], []\n",
    "        for dt in datasets:        \n",
    "            dataDF = pd.read_csv(os.path.join(country_dir, '{}_{}_predictions.csv'.format(country, dt)), dtype = {'user_id': str})\n",
    "            true_lbl.append(dataDF.true_label.values)\n",
    "            pred_lbl.append(dataDF.predicted_label.values)\n",
    "        \n",
    "        true_lbl = np.concatenate(true_lbl)\n",
    "        pred_lbl = np.concatenate(pred_lbl)\n",
    "        result_dict[country]['accuracy'] = accuracy_score(true_lbl, pred_lbl)\n",
    "        result_dict[country]['f1'] = f1_score(true_lbl, pred_lbl, average = 'macro')\n",
    "        maj = true_lbl.mean()\n",
    "        result_dict[country]['majority'] = maj if maj > 0.5 else 1 - maj\n",
    "        \n",
    "    resultsDF = pd.DataFrame.from_dict(result_dict, orient = 'index')\n",
    "    print(f' ############ {main_c} Classifier ############')\n",
    "    display(resultsDF)"
   ]
  },
  {
   "cell_type": "code",
   "execution_count": 20,
   "id": "2bc01ba4-7ac8-4851-ac2f-18ded33fca50",
   "metadata": {},
   "outputs": [
    {
     "data": {
      "text/html": [
       "<div>\n",
       "<style scoped>\n",
       "    .dataframe tbody tr th:only-of-type {\n",
       "        vertical-align: middle;\n",
       "    }\n",
       "\n",
       "    .dataframe tbody tr th {\n",
       "        vertical-align: top;\n",
       "    }\n",
       "\n",
       "    .dataframe thead th {\n",
       "        text-align: right;\n",
       "    }\n",
       "</style>\n",
       "<table border=\"1\" class=\"dataframe\">\n",
       "  <thead>\n",
       "    <tr style=\"text-align: right;\">\n",
       "      <th></th>\n",
       "      <th>accuracy</th>\n",
       "      <th>f1</th>\n",
       "      <th>majority</th>\n",
       "    </tr>\n",
       "  </thead>\n",
       "  <tbody>\n",
       "    <tr>\n",
       "      <th>Ecuador</th>\n",
       "      <td>0.252541</td>\n",
       "      <td>0.214831</td>\n",
       "      <td>0.668103</td>\n",
       "    </tr>\n",
       "    <tr>\n",
       "      <th>Colombia</th>\n",
       "      <td>0.175506</td>\n",
       "      <td>0.173572</td>\n",
       "      <td>0.738234</td>\n",
       "    </tr>\n",
       "    <tr>\n",
       "      <th>Chile</th>\n",
       "      <td>0.099507</td>\n",
       "      <td>0.099499</td>\n",
       "      <td>0.868632</td>\n",
       "    </tr>\n",
       "  </tbody>\n",
       "</table>\n",
       "</div>"
      ],
      "text/plain": [
       "          accuracy        f1  majority\n",
       "Ecuador   0.252541  0.214831  0.668103\n",
       "Colombia  0.175506  0.173572  0.738234\n",
       "Chile     0.099507  0.099499  0.868632"
      ]
     },
     "execution_count": 20,
     "metadata": {},
     "output_type": "execute_result"
    }
   ],
   "source": [
    "\n",
    "resultsDF"
   ]
  },
  {
   "cell_type": "markdown",
   "id": "7f52caf4-f67f-4988-83cc-f46f23145e2b",
   "metadata": {},
   "source": [
    "## Duplicates"
   ]
  },
  {
   "cell_type": "code",
   "execution_count": 3,
   "id": "b3f0ad1a-ff30-4803-b0b8-1cc0f2920a31",
   "metadata": {},
   "outputs": [],
   "source": [
    "import pandas as pd, os\n",
    "\n",
    "resDir = r''\n",
    "country = 'Bolivia'\n",
    "\n",
    "trainDF = pd.read_csv(os.path.join(resDir, 'train_predictions.csv'), dtype = {'user_id': str})\n",
    "valDF = pd.read_csv(os.path.join(resDir, 'val_predictions.csv'), dtype = {'user_id': str})\n",
    "testDF = pd.read_csv(os.path.join(resDir, 'test_predictions.csv'), dtype = {'user_id': str})\n",
    "firstNeighDF = pd.read_csv(os.path.join(resDir, 'first_neighbor_predictions.csv'), dtype = {'user_id': str})\n",
    "secondNeighDF = pd.read_csv(os.path.join(resDir, 'second_neighbor_predictions.csv'), dtype = {'user_id': str})"
   ]
  }
 ],
 "metadata": {
  "kernelspec": {
   "display_name": "Python 3 (ipykernel)",
   "language": "python",
   "name": "python3"
  },
  "language_info": {
   "codemirror_mode": {
    "name": "ipython",
    "version": 3
   },
   "file_extension": ".py",
   "mimetype": "text/x-python",
   "name": "python",
   "nbconvert_exporter": "python",
   "pygments_lexer": "ipython3",
   "version": "3.11.7"
  }
 },
 "nbformat": 4,
 "nbformat_minor": 5
}
