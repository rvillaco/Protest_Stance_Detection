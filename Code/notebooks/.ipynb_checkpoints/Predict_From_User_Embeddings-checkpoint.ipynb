{
 "cells": [
  {
   "cell_type": "markdown",
   "id": "0c088348-5d19-483a-b19d-b8e5e148662c",
   "metadata": {},
   "source": [
    "In this code we are going to handle the predictions of the test set for the different classifiers. This will also return the predicted probabilities so that we can compute the AUC of the different classifiers addressing one of the requirements of the PLOS One Reviewers.\n",
    "\n",
    "# User Level Transformer"
   ]
  },
  {
   "cell_type": "code",
   "execution_count": 1,
   "id": "e50e79e6-95b0-4751-a783-0bbe9e9bb7d5",
   "metadata": {},
   "outputs": [],
   "source": [
    "# Helper Function\n",
    "import torch, numpy as np, random, os,  pandas as pd\n",
    "from tqdm.notebook import tqdm, trange\n",
    "\n",
    "def predict(model, data_loader):\n",
    "    #model.eval()\n",
    "    torch.no_grad()\n",
    "    resultsDF_list = {'user_id': [], 'true_label': [], 'predicted_label':[], 'proba_class_1': [] }\n",
    "    with torch.no_grad():   \n",
    "        epoch_iterator = tqdm(data_loader, desc=\"Predicting\")\n",
    "        for step, batch in enumerate(epoch_iterator):        \n",
    "            # Get Batch Elements\n",
    "            batched_ids, user_embeddings, labels = batch['batched_ids'], batch['user_embeddings'].to(device), batch['labels']\n",
    "            \n",
    "            # Predict\n",
    "            logits = model(user_embeddings) \n",
    "            _, preds = torch.max(logits, dim=1)\n",
    "            proba_class1 = torch.softmax(logits, dim = 1)[:, 1]  \n",
    "            \n",
    "            # Compile results \n",
    "            resultsDF_list['user_id'].extend(batched_ids)\n",
    "            if labels is None:\n",
    "                resultsDF_list['true_label'].extend([None] * len(batched_ids))\n",
    "            else:\n",
    "                resultsDF_list['true_label'].extend(list(labels.data.numpy()))\n",
    "            resultsDF_list['predicted_label'].extend(list(preds.data.cpu().numpy()))\n",
    "            resultsDF_list['proba_class_1'].extend(list(proba_class1.data.cpu().numpy()))            \n",
    "\n",
    "    resultsDF = pd.DataFrame(resultsDF_list)\n",
    "    return resultsDF\n",
    "\n",
    "def set_seed(seed):\n",
    "    random.seed(seed)\n",
    "    np.random.seed(seed)\n",
    "    torch.manual_seed(seed)\n",
    "    torch.cuda.manual_seed_all(seed)"
   ]
  },
  {
   "cell_type": "code",
   "execution_count": 2,
   "id": "3267133e-6bf6-4bc2-a09f-c66588714d20",
   "metadata": {},
   "outputs": [],
   "source": [
    "from torch.utils.data import Dataset\n",
    "\n",
    "class EmbeddingDataset(Dataset):\n",
    "    '''\n",
    "    Dataset used when working with pretrained user embeddings resulting from a User_Stance_Classifier\n",
    "    '''\n",
    "    def __init__(self, user_labels_file, embedding_file, label_column = 'true_label'):\n",
    "        self.User_DF = pd.read_csv(user_labels_file, dtype = {'user_id': str})\n",
    "        userEmbeddings = torch.load(embedding_file, weights_only=False)\n",
    "        \n",
    "        # Manage Label Column\n",
    "        if label_column is not None:\n",
    "            self.User_DF = self.User_DF.rename(columns = {label_column :'user_stance'})            \n",
    "        else:\n",
    "            self.User_DF['user_stance'] = None\n",
    "           \n",
    "        # Define parameters\n",
    "        self.ids = self.User_DF.user_id.values\n",
    "        self.labels = self.User_DF.user_stance.values\n",
    "        self.embeddings = userEmbeddings\n",
    "           \n",
    "    def __len__(self):\n",
    "        return len(self.ids)\n",
    "    \n",
    "    def __getitem__(self, item):\n",
    "        return self.ids[item], self.embeddings[item], self.labels[item]    \n",
    "\n",
    "    def _embedding_datacollator(self, data_batch): # Could produce problems of memory overflow in multiprocessing (not sure if the self reference will cause duplication of the dataset) \n",
    "        # TODO: if it doest work for multiprocessing make it take tokenizer as a parameter\n",
    "        ''' \n",
    "        Collate Batches of observations given by this dataset. \n",
    "            data_batch: List of Dictionaries as produced by self.__getitem__\n",
    "        '''\n",
    "        batched_ids, batched_embs, labels = zip(*data_batch)\n",
    "\n",
    "        return {\n",
    "            'batched_ids': batched_ids,\n",
    "            'user_embeddings': torch.stack(batched_embs, dim = 0), \n",
    "            'labels': torch.tensor(labels).long()  \n",
    "        }\n"
   ]
  },
  {
   "cell_type": "code",
   "execution_count": 5,
   "id": "07d3eadf-d109-4d1c-8ca7-797343116095",
   "metadata": {},
   "outputs": [
    {
     "name": "stdout",
     "output_type": "stream",
     "text": [
      "### Working with Colombia User Transformer\n",
      "    Load Best Model\n"
     ]
    },
    {
     "name": "stderr",
     "output_type": "stream",
     "text": [
      "C:\\Users\\Ramon\\AppData\\Local\\Temp\\ipykernel_22288\\2121901669.py:68: FutureWarning: You are using `torch.load` with `weights_only=False` (the current default value), which uses the default pickle module implicitly. It is possible to construct malicious pickle data which will execute arbitrary code during unpickling (See https://github.com/pytorch/pytorch/blob/main/SECURITY.md#untrusted-models for more details). In a future release, the default value for `weights_only` will be flipped to `True`. This limits the functions that could be executed during unpickling. Arbitrary objects will no longer be allowed to be loaded via this mode unless they are explicitly allowlisted by the user via `torch.serialization.add_safe_globals`. We recommend you start setting `weights_only=True` for any use case where you don't have full control of the loaded file. Please open an issue on GitHub for any issues related to this experimental feature.\n",
      "  user_classifier_sd = torch.load(os.path.join(best_dir, 'model_results.pth'), map_location=device)\n"
     ]
    },
    {
     "name": "stdout",
     "output_type": "stream",
     "text": [
      "Model loaded from <== E:\\OneDrive\\Research Group\\Papers\\Target_Stance_Classification\\Results\\Best_Models\\Colombia\n"
     ]
    },
    {
     "data": {
      "application/vnd.jupyter.widget-view+json": {
       "model_id": "1888fb2213fc4123b9539e01d514e6a2",
       "version_major": 2,
       "version_minor": 0
      },
      "text/plain": [
       "Predicting:   0%|          | 0/156 [00:00<?, ?it/s]"
      ]
     },
     "metadata": {},
     "output_type": "display_data"
    },
    {
     "name": "stdout",
     "output_type": "stream",
     "text": [
      "    The percentage of predictions that matched previous results was : 100.00%\n"
     ]
    },
    {
     "data": {
      "application/vnd.jupyter.widget-view+json": {
       "model_id": "d382c95cf51b449698723d806c16a585",
       "version_major": 2,
       "version_minor": 0
      },
      "text/plain": [
       "Predicting:   0%|          | 0/169 [00:00<?, ?it/s]"
      ]
     },
     "metadata": {},
     "output_type": "display_data"
    },
    {
     "name": "stdout",
     "output_type": "stream",
     "text": [
      "    The percentage of predictions that matched previous results was : 100.00%\n"
     ]
    },
    {
     "data": {
      "application/vnd.jupyter.widget-view+json": {
       "model_id": "4524d7b2b486494192290f987e361a8e",
       "version_major": 2,
       "version_minor": 0
      },
      "text/plain": [
       "Predicting:   0%|          | 0/1367 [00:00<?, ?it/s]"
      ]
     },
     "metadata": {},
     "output_type": "display_data"
    },
    {
     "name": "stdout",
     "output_type": "stream",
     "text": [
      "    The percentage of predictions that matched previous results was : 100.00%\n",
      "### Working with Chile User Transformer\n",
      "    Load Best Model\n"
     ]
    },
    {
     "name": "stderr",
     "output_type": "stream",
     "text": [
      "C:\\Users\\Ramon\\AppData\\Local\\Temp\\ipykernel_22288\\2121901669.py:68: FutureWarning: You are using `torch.load` with `weights_only=False` (the current default value), which uses the default pickle module implicitly. It is possible to construct malicious pickle data which will execute arbitrary code during unpickling (See https://github.com/pytorch/pytorch/blob/main/SECURITY.md#untrusted-models for more details). In a future release, the default value for `weights_only` will be flipped to `True`. This limits the functions that could be executed during unpickling. Arbitrary objects will no longer be allowed to be loaded via this mode unless they are explicitly allowlisted by the user via `torch.serialization.add_safe_globals`. We recommend you start setting `weights_only=True` for any use case where you don't have full control of the loaded file. Please open an issue on GitHub for any issues related to this experimental feature.\n",
      "  user_classifier_sd = torch.load(os.path.join(best_dir, 'model_results.pth'), map_location=device)\n"
     ]
    },
    {
     "name": "stdout",
     "output_type": "stream",
     "text": [
      "Model loaded from <== E:\\OneDrive\\Research Group\\Papers\\Target_Stance_Classification\\Results\\Best_Models\\Chile\n"
     ]
    },
    {
     "data": {
      "application/vnd.jupyter.widget-view+json": {
       "model_id": "5133b8f09ac94024826a3a18fd128c64",
       "version_major": 2,
       "version_minor": 0
      },
      "text/plain": [
       "Predicting:   0%|          | 0/361 [00:00<?, ?it/s]"
      ]
     },
     "metadata": {},
     "output_type": "display_data"
    },
    {
     "name": "stdout",
     "output_type": "stream",
     "text": [
      "    The percentage of predictions that matched previous results was : 100.00%\n"
     ]
    },
    {
     "data": {
      "application/vnd.jupyter.widget-view+json": {
       "model_id": "b393c389993049dc948e15ecd6bea170",
       "version_major": 2,
       "version_minor": 0
      },
      "text/plain": [
       "Predicting:   0%|          | 0/397 [00:00<?, ?it/s]"
      ]
     },
     "metadata": {},
     "output_type": "display_data"
    },
    {
     "name": "stdout",
     "output_type": "stream",
     "text": [
      "    The percentage of predictions that matched previous results was : 100.00%\n"
     ]
    },
    {
     "data": {
      "application/vnd.jupyter.widget-view+json": {
       "model_id": "983caa2b68c74bd98a4e53632eebce5a",
       "version_major": 2,
       "version_minor": 0
      },
      "text/plain": [
       "Predicting:   0%|          | 0/3208 [00:00<?, ?it/s]"
      ]
     },
     "metadata": {},
     "output_type": "display_data"
    },
    {
     "name": "stdout",
     "output_type": "stream",
     "text": [
      "    The percentage of predictions that matched previous results was : 100.00%\n",
      "### Working with Ecuador User Transformer\n",
      "    Load Best Model\n"
     ]
    },
    {
     "name": "stderr",
     "output_type": "stream",
     "text": [
      "C:\\Users\\Ramon\\AppData\\Local\\Temp\\ipykernel_22288\\2121901669.py:68: FutureWarning: You are using `torch.load` with `weights_only=False` (the current default value), which uses the default pickle module implicitly. It is possible to construct malicious pickle data which will execute arbitrary code during unpickling (See https://github.com/pytorch/pytorch/blob/main/SECURITY.md#untrusted-models for more details). In a future release, the default value for `weights_only` will be flipped to `True`. This limits the functions that could be executed during unpickling. Arbitrary objects will no longer be allowed to be loaded via this mode unless they are explicitly allowlisted by the user via `torch.serialization.add_safe_globals`. We recommend you start setting `weights_only=True` for any use case where you don't have full control of the loaded file. Please open an issue on GitHub for any issues related to this experimental feature.\n",
      "  user_classifier_sd = torch.load(os.path.join(best_dir, 'model_results.pth'), map_location=device)\n"
     ]
    },
    {
     "name": "stdout",
     "output_type": "stream",
     "text": [
      "Model loaded from <== E:\\OneDrive\\Research Group\\Papers\\Target_Stance_Classification\\Results\\Best_Models\\Ecuador\n"
     ]
    },
    {
     "data": {
      "application/vnd.jupyter.widget-view+json": {
       "model_id": "d89ddc7ecc0146f0982910afa5a3d7bd",
       "version_major": 2,
       "version_minor": 0
      },
      "text/plain": [
       "Predicting:   0%|          | 0/111 [00:00<?, ?it/s]"
      ]
     },
     "metadata": {},
     "output_type": "display_data"
    },
    {
     "name": "stdout",
     "output_type": "stream",
     "text": [
      "    The percentage of predictions that matched previous results was : 100.00%\n"
     ]
    },
    {
     "data": {
      "application/vnd.jupyter.widget-view+json": {
       "model_id": "2e32c9426f014adca8cf072cf9fa61ad",
       "version_major": 2,
       "version_minor": 0
      },
      "text/plain": [
       "Predicting:   0%|          | 0/121 [00:00<?, ?it/s]"
      ]
     },
     "metadata": {},
     "output_type": "display_data"
    },
    {
     "name": "stdout",
     "output_type": "stream",
     "text": [
      "    The percentage of predictions that matched previous results was : 100.00%\n"
     ]
    },
    {
     "data": {
      "application/vnd.jupyter.widget-view+json": {
       "model_id": "33f0589a212a4f1199bbf9e7a3da9714",
       "version_major": 2,
       "version_minor": 0
      },
      "text/plain": [
       "Predicting:   0%|          | 0/973 [00:00<?, ?it/s]"
      ]
     },
     "metadata": {},
     "output_type": "display_data"
    },
    {
     "name": "stdout",
     "output_type": "stream",
     "text": [
      "    The percentage of predictions that matched previous results was : 100.00%\n",
      "### Working with Bolivia User Transformer\n",
      "    Load Best Model\n"
     ]
    },
    {
     "name": "stderr",
     "output_type": "stream",
     "text": [
      "C:\\Users\\Ramon\\AppData\\Local\\Temp\\ipykernel_22288\\2121901669.py:68: FutureWarning: You are using `torch.load` with `weights_only=False` (the current default value), which uses the default pickle module implicitly. It is possible to construct malicious pickle data which will execute arbitrary code during unpickling (See https://github.com/pytorch/pytorch/blob/main/SECURITY.md#untrusted-models for more details). In a future release, the default value for `weights_only` will be flipped to `True`. This limits the functions that could be executed during unpickling. Arbitrary objects will no longer be allowed to be loaded via this mode unless they are explicitly allowlisted by the user via `torch.serialization.add_safe_globals`. We recommend you start setting `weights_only=True` for any use case where you don't have full control of the loaded file. Please open an issue on GitHub for any issues related to this experimental feature.\n",
      "  user_classifier_sd = torch.load(os.path.join(best_dir, 'model_results.pth'), map_location=device)\n"
     ]
    },
    {
     "name": "stdout",
     "output_type": "stream",
     "text": [
      "Model loaded from <== E:\\OneDrive\\Research Group\\Papers\\Target_Stance_Classification\\Results\\Best_Models\\Bolivia\n"
     ]
    },
    {
     "data": {
      "application/vnd.jupyter.widget-view+json": {
       "model_id": "1579c4b06b6d4eba9498ec41ced78306",
       "version_major": 2,
       "version_minor": 0
      },
      "text/plain": [
       "Predicting:   0%|          | 0/160 [00:00<?, ?it/s]"
      ]
     },
     "metadata": {},
     "output_type": "display_data"
    },
    {
     "name": "stdout",
     "output_type": "stream",
     "text": [
      "    The percentage of predictions that matched previous results was : 100.00%\n"
     ]
    },
    {
     "data": {
      "application/vnd.jupyter.widget-view+json": {
       "model_id": "2859d9c067e7440195195e365ec0e910",
       "version_major": 2,
       "version_minor": 0
      },
      "text/plain": [
       "Predicting:   0%|          | 0/177 [00:00<?, ?it/s]"
      ]
     },
     "metadata": {},
     "output_type": "display_data"
    },
    {
     "name": "stdout",
     "output_type": "stream",
     "text": [
      "    The percentage of predictions that matched previous results was : 100.00%\n"
     ]
    },
    {
     "data": {
      "application/vnd.jupyter.widget-view+json": {
       "model_id": "55afd72413a04fecb8484adf1a4e29c6",
       "version_major": 2,
       "version_minor": 0
      },
      "text/plain": [
       "Predicting:   0%|          | 0/1428 [00:00<?, ?it/s]"
      ]
     },
     "metadata": {},
     "output_type": "display_data"
    },
    {
     "name": "stdout",
     "output_type": "stream",
     "text": [
      "    The percentage of predictions that matched previous results was : 100.00%\n"
     ]
    }
   ],
   "source": [
    "from UserModules.StanceDataset import *\n",
    "from torch.utils.data import Dataset, DataLoader\n",
    "# Load BERT Tokenizer\n",
    "import torch, numpy as np, random, os\n",
    "from UserModules.ModelConfiguration import *\n",
    "from UserModules.UserClassifier import User_Stance_Classifier, User_Embedding_Classifier\n",
    "\n",
    "countries = ['Colombia', 'Chile', 'Ecuador', 'Bolivia']\n",
    "## Global Parameters\n",
    "MAX_SEQ_LEN, MAX_TW_LEN = 128, 15\n",
    "BATCH_SIZE = 64\n",
    "SEED = 1911\n",
    "INTERACTION_TYPES = ['<cls>', '<pad>', 'Original', 'Quote', 'Reply', 'Retweet']\n",
    "num_workers = 0\n",
    "device = torch.device(\"cuda:0\" if torch.cuda.is_available() else \"cpu\")\n",
    "workDir = r''\n",
    "\n",
    "for COUNTRY in countries:\n",
    "    embDir = r'{}\\Results\\Predictions\\Main_Predictions\\{}'.format(workDir, COUNTRY)\n",
    "    outDir = r'{}\\{}'.format(workDir, COUNTRY)\n",
    "    if not os.path.isdir(outDir):\n",
    "        os.mkdir(outDir)\n",
    "\n",
    "    print(f'### Working with {COUNTRY} User Transformer')\n",
    "    # Load Model\n",
    "    tweet_enc_args = {\n",
    "        'Model_Dir': r'{}\\RoBETO_Weights'.format(workDir), \n",
    "        'dropout': 0.1,\n",
    "        'activation': 'Tanh',\n",
    "        'freeze_bert_embeddings': True\n",
    "    }\n",
    "    \n",
    "    tweetConfig = RoBERTaEncoderConfig(**tweet_enc_args)\n",
    "    \n",
    "    emb_params = {\n",
    "        'cls_idx': INTERACTION_TYPES.index('<cls>'),\n",
    "        'pad_idx': INTERACTION_TYPES.index('<pad>'),\n",
    "        'max_tweet_number': MAX_TW_LEN,\n",
    "        'dropout': 0.1,\n",
    "        'layer_norm_eps': 1e-12,\n",
    "        'tweet_type_number': len(INTERACTION_TYPES),\n",
    "        'mask_embeddings': True\n",
    "    }    \n",
    "    embConfig = ModelEmbeddingsConfig(tweetConfig, **emb_params)\n",
    "    \n",
    "    user_params = { # This are the default parameters in UserEncoderConfig\n",
    "        'num_attention_heads': 6,\n",
    "        'intermidiate_size': 2048,\n",
    "        'num_encoder_layers': 3,\n",
    "        'transformer_activation': 'gelu',\n",
    "        'user_activation': 'Tanh',\n",
    "        'dropout': 0.1, \n",
    "        'initializer_range': 0.02,\n",
    "        'model_embedder_version': 'v3' # v3 leaves the CLS parameter for the type embeddings    \n",
    "    }\n",
    "    userConfig = UserEncoderConfig(embConfig, **user_params)\n",
    "    \n",
    "    # Instantiate model\n",
    "    model = User_Embedding_Classifier(num_classes = 2, user_config = userConfig)    \n",
    "    model.to(device)\n",
    "\n",
    "    print(f'    Load Best Model')\n",
    "    best_dir = r'{}\\Best_Models\\{}'.format(workDir, COUNTRY)\n",
    "    \n",
    "    user_classifier_sd = torch.load(os.path.join(best_dir, 'model_results.pth'), map_location=device)\n",
    "    print(f'Model loaded from <== {best_dir}')\n",
    "\n",
    "    # Set weights from best model for country\n",
    "    model.load_weights_from_User_Stance_Classifier(user_classifier_sd)\n",
    "\n",
    "    # Load Input data\n",
    "    embDir = r'{}\\Results\\Predictions\\Main_Predictions\\{}'.format(workDir, COUNTRY)\n",
    "    data_keys = {'train', 'test', 'val'}\n",
    "    for key in data_keys:    \n",
    "        # Set Data Files\n",
    "        userLabelsFile = r'{}\\{}_predictions.csv'.format(embDir, key)\n",
    "        embFile = r'{}\\{}_embeddings.pt'.format(embDir, key)\n",
    "        \n",
    "        data = EmbeddingDataset(userLabelsFile, embFile, label_column = 'true_label')\n",
    "        data_loader =  DataLoader(data, batch_size = BATCH_SIZE, num_workers=num_workers, \n",
    "                                  collate_fn = data._embedding_datacollator, shuffle = True)\n",
    "    \n",
    "        resultsDF = predict(model, data_loader)\n",
    "    \n",
    "        # Validate the results\n",
    "        previous_answers = pd.read_csv(userLabelsFile, dtype = {'user_id': str}).rename(columns = {'predicted_label': 'old_prediction'})\n",
    "        temp = pd.merge(resultsDF, previous_answers, on = 'user_id')\n",
    "    \n",
    "        print(f'    The percentage of predictions that matched previous results was : {(temp.predicted_label == temp.old_prediction).sum() / len(temp):.2%}')\n",
    "    \n",
    "        # Save Results\n",
    "        resultsDF.to_csv(os.path.join(outDir, '{}_predictions.csv'.format(key)), index = False)\n",
    "\n",
    "    del(model, resultsDF, data, temp)\n",
    "    torch.cuda.empty_cache()"
   ]
  },
  {
   "cell_type": "markdown",
   "id": "94f300a8-22e1-4d05-9888-9bcdf106b2ce",
   "metadata": {},
   "source": [
    "### Cross-Country Predictions"
   ]
  },
  {
   "cell_type": "code",
   "execution_count": 5,
   "id": "c611a44a-ef24-45cb-b827-9dc0dec9c330",
   "metadata": {},
   "outputs": [
    {
     "name": "stdout",
     "output_type": "stream",
     "text": [
      "### Working with Colombia User Transformer\n",
      "    Load Best Model\n",
      "Model loaded from <== E:\\OneDrive\\Research Group\\Papers\\Target_Stance_Classification\\Results\\Best_Models\\Colombia\n"
     ]
    },
    {
     "name": "stderr",
     "output_type": "stream",
     "text": [
      "C:\\Users\\Ramon\\AppData\\Local\\Temp\\ipykernel_21488\\533658402.py:68: FutureWarning: You are using `torch.load` with `weights_only=False` (the current default value), which uses the default pickle module implicitly. It is possible to construct malicious pickle data which will execute arbitrary code during unpickling (See https://github.com/pytorch/pytorch/blob/main/SECURITY.md#untrusted-models for more details). In a future release, the default value for `weights_only` will be flipped to `True`. This limits the functions that could be executed during unpickling. Arbitrary objects will no longer be allowed to be loaded via this mode unless they are explicitly allowlisted by the user via `torch.serialization.add_safe_globals`. We recommend you start setting `weights_only=True` for any use case where you don't have full control of the loaded file. Please open an issue on GitHub for any issues related to this experimental feature.\n",
      "  user_classifier_sd = torch.load(os.path.join(best_dir, 'model_results.pth'), map_location=device)\n"
     ]
    },
    {
     "name": "stdout",
     "output_type": "stream",
     "text": [
      "### Predicting stances in country: Chile\n",
      " ## Working with Files in val set\n"
     ]
    },
    {
     "data": {
      "application/vnd.jupyter.widget-view+json": {
       "model_id": "e973ca4e185245dc9460b06033dcaf54",
       "version_major": 2,
       "version_minor": 0
      },
      "text/plain": [
       "Predicting:   0%|          | 0/397 [00:00<?, ?it/s]"
      ]
     },
     "metadata": {},
     "output_type": "display_data"
    },
    {
     "name": "stdout",
     "output_type": "stream",
     "text": [
      "    The percentage of predictions that matched previous results was : 100.00%\n",
      " ## Working with Files in test set\n"
     ]
    },
    {
     "data": {
      "application/vnd.jupyter.widget-view+json": {
       "model_id": "34af6a2a10794ebf87c8710f2f317741",
       "version_major": 2,
       "version_minor": 0
      },
      "text/plain": [
       "Predicting:   0%|          | 0/361 [00:00<?, ?it/s]"
      ]
     },
     "metadata": {},
     "output_type": "display_data"
    },
    {
     "name": "stdout",
     "output_type": "stream",
     "text": [
      "    The percentage of predictions that matched previous results was : 100.00%\n",
      " ## Working with Files in train set\n"
     ]
    },
    {
     "data": {
      "application/vnd.jupyter.widget-view+json": {
       "model_id": "b673ce905e3e47198b11557c602d8e5d",
       "version_major": 2,
       "version_minor": 0
      },
      "text/plain": [
       "Predicting:   0%|          | 0/3208 [00:00<?, ?it/s]"
      ]
     },
     "metadata": {},
     "output_type": "display_data"
    },
    {
     "name": "stdout",
     "output_type": "stream",
     "text": [
      "    The percentage of predictions that matched previous results was : 100.00%\n",
      "### Predicting stances in country: Ecuador\n",
      " ## Working with Files in val set\n"
     ]
    },
    {
     "data": {
      "application/vnd.jupyter.widget-view+json": {
       "model_id": "ee8078b38d18475391c3b7a716b01035",
       "version_major": 2,
       "version_minor": 0
      },
      "text/plain": [
       "Predicting:   0%|          | 0/121 [00:00<?, ?it/s]"
      ]
     },
     "metadata": {},
     "output_type": "display_data"
    },
    {
     "name": "stdout",
     "output_type": "stream",
     "text": [
      "    The percentage of predictions that matched previous results was : 100.00%\n",
      " ## Working with Files in test set\n"
     ]
    },
    {
     "data": {
      "application/vnd.jupyter.widget-view+json": {
       "model_id": "9de636bad8954d24ae1efd674ec157fc",
       "version_major": 2,
       "version_minor": 0
      },
      "text/plain": [
       "Predicting:   0%|          | 0/111 [00:00<?, ?it/s]"
      ]
     },
     "metadata": {},
     "output_type": "display_data"
    },
    {
     "name": "stdout",
     "output_type": "stream",
     "text": [
      "    The percentage of predictions that matched previous results was : 100.00%\n",
      " ## Working with Files in train set\n"
     ]
    },
    {
     "data": {
      "application/vnd.jupyter.widget-view+json": {
       "model_id": "2192be1b7dfe4ad0a57aee55b87c6ea6",
       "version_major": 2,
       "version_minor": 0
      },
      "text/plain": [
       "Predicting:   0%|          | 0/973 [00:00<?, ?it/s]"
      ]
     },
     "metadata": {},
     "output_type": "display_data"
    },
    {
     "name": "stdout",
     "output_type": "stream",
     "text": [
      "    The percentage of predictions that matched previous results was : 100.00%\n",
      "### Predicting stances in country: Bolivia\n",
      " ## Working with Files in val set\n"
     ]
    },
    {
     "data": {
      "application/vnd.jupyter.widget-view+json": {
       "model_id": "7667d13d76bd4f069431bc100978b112",
       "version_major": 2,
       "version_minor": 0
      },
      "text/plain": [
       "Predicting:   0%|          | 0/177 [00:00<?, ?it/s]"
      ]
     },
     "metadata": {},
     "output_type": "display_data"
    },
    {
     "name": "stdout",
     "output_type": "stream",
     "text": [
      "    The percentage of predictions that matched previous results was : 100.00%\n",
      " ## Working with Files in test set\n"
     ]
    },
    {
     "data": {
      "application/vnd.jupyter.widget-view+json": {
       "model_id": "c068e43d5b63477faa787257d0b7182f",
       "version_major": 2,
       "version_minor": 0
      },
      "text/plain": [
       "Predicting:   0%|          | 0/160 [00:00<?, ?it/s]"
      ]
     },
     "metadata": {},
     "output_type": "display_data"
    },
    {
     "name": "stdout",
     "output_type": "stream",
     "text": [
      "    The percentage of predictions that matched previous results was : 100.00%\n",
      " ## Working with Files in train set\n"
     ]
    },
    {
     "data": {
      "application/vnd.jupyter.widget-view+json": {
       "model_id": "2ae45d4dfa664eb9a6461d4a790d3f6c",
       "version_major": 2,
       "version_minor": 0
      },
      "text/plain": [
       "Predicting:   0%|          | 0/1428 [00:00<?, ?it/s]"
      ]
     },
     "metadata": {},
     "output_type": "display_data"
    },
    {
     "name": "stdout",
     "output_type": "stream",
     "text": [
      "    The percentage of predictions that matched previous results was : 100.00%\n",
      "### Working with Chile User Transformer\n",
      "    Load Best Model\n"
     ]
    },
    {
     "name": "stderr",
     "output_type": "stream",
     "text": [
      "C:\\Users\\Ramon\\AppData\\Local\\Temp\\ipykernel_21488\\533658402.py:68: FutureWarning: You are using `torch.load` with `weights_only=False` (the current default value), which uses the default pickle module implicitly. It is possible to construct malicious pickle data which will execute arbitrary code during unpickling (See https://github.com/pytorch/pytorch/blob/main/SECURITY.md#untrusted-models for more details). In a future release, the default value for `weights_only` will be flipped to `True`. This limits the functions that could be executed during unpickling. Arbitrary objects will no longer be allowed to be loaded via this mode unless they are explicitly allowlisted by the user via `torch.serialization.add_safe_globals`. We recommend you start setting `weights_only=True` for any use case where you don't have full control of the loaded file. Please open an issue on GitHub for any issues related to this experimental feature.\n",
      "  user_classifier_sd = torch.load(os.path.join(best_dir, 'model_results.pth'), map_location=device)\n"
     ]
    },
    {
     "name": "stdout",
     "output_type": "stream",
     "text": [
      "Model loaded from <== E:\\OneDrive\\Research Group\\Papers\\Target_Stance_Classification\\Results\\Best_Models\\Chile\n",
      "### Predicting stances in country: Colombia\n",
      " ## Working with Files in val set\n"
     ]
    },
    {
     "data": {
      "application/vnd.jupyter.widget-view+json": {
       "model_id": "679d680b81104548898b31c31ad3f5e3",
       "version_major": 2,
       "version_minor": 0
      },
      "text/plain": [
       "Predicting:   0%|          | 0/169 [00:00<?, ?it/s]"
      ]
     },
     "metadata": {},
     "output_type": "display_data"
    },
    {
     "name": "stdout",
     "output_type": "stream",
     "text": [
      "    The percentage of predictions that matched previous results was : 100.00%\n",
      " ## Working with Files in test set\n"
     ]
    },
    {
     "data": {
      "application/vnd.jupyter.widget-view+json": {
       "model_id": "8de04cb36200407eb47f1b59df9b28d0",
       "version_major": 2,
       "version_minor": 0
      },
      "text/plain": [
       "Predicting:   0%|          | 0/156 [00:00<?, ?it/s]"
      ]
     },
     "metadata": {},
     "output_type": "display_data"
    },
    {
     "name": "stdout",
     "output_type": "stream",
     "text": [
      "    The percentage of predictions that matched previous results was : 100.00%\n",
      " ## Working with Files in train set\n"
     ]
    },
    {
     "data": {
      "application/vnd.jupyter.widget-view+json": {
       "model_id": "15b2b353ccfc47179daf24e651e2a7bb",
       "version_major": 2,
       "version_minor": 0
      },
      "text/plain": [
       "Predicting:   0%|          | 0/1367 [00:00<?, ?it/s]"
      ]
     },
     "metadata": {},
     "output_type": "display_data"
    },
    {
     "name": "stdout",
     "output_type": "stream",
     "text": [
      "    The percentage of predictions that matched previous results was : 100.00%\n",
      "### Predicting stances in country: Ecuador\n",
      " ## Working with Files in val set\n"
     ]
    },
    {
     "data": {
      "application/vnd.jupyter.widget-view+json": {
       "model_id": "df7099a46f6e4e3ab826bd8636dd014f",
       "version_major": 2,
       "version_minor": 0
      },
      "text/plain": [
       "Predicting:   0%|          | 0/121 [00:00<?, ?it/s]"
      ]
     },
     "metadata": {},
     "output_type": "display_data"
    },
    {
     "name": "stdout",
     "output_type": "stream",
     "text": [
      "    The percentage of predictions that matched previous results was : 100.00%\n",
      " ## Working with Files in test set\n"
     ]
    },
    {
     "data": {
      "application/vnd.jupyter.widget-view+json": {
       "model_id": "0b052387ea7b44eb95d6df84eb3da30c",
       "version_major": 2,
       "version_minor": 0
      },
      "text/plain": [
       "Predicting:   0%|          | 0/111 [00:00<?, ?it/s]"
      ]
     },
     "metadata": {},
     "output_type": "display_data"
    },
    {
     "name": "stdout",
     "output_type": "stream",
     "text": [
      "    The percentage of predictions that matched previous results was : 100.00%\n",
      " ## Working with Files in train set\n"
     ]
    },
    {
     "data": {
      "application/vnd.jupyter.widget-view+json": {
       "model_id": "5931720a251a43739da71da896be2d40",
       "version_major": 2,
       "version_minor": 0
      },
      "text/plain": [
       "Predicting:   0%|          | 0/973 [00:00<?, ?it/s]"
      ]
     },
     "metadata": {},
     "output_type": "display_data"
    },
    {
     "name": "stdout",
     "output_type": "stream",
     "text": [
      "    The percentage of predictions that matched previous results was : 100.00%\n",
      "### Predicting stances in country: Bolivia\n",
      " ## Working with Files in val set\n"
     ]
    },
    {
     "data": {
      "application/vnd.jupyter.widget-view+json": {
       "model_id": "02fb0eea54444d9f9afac5af395d35ac",
       "version_major": 2,
       "version_minor": 0
      },
      "text/plain": [
       "Predicting:   0%|          | 0/177 [00:00<?, ?it/s]"
      ]
     },
     "metadata": {},
     "output_type": "display_data"
    },
    {
     "name": "stdout",
     "output_type": "stream",
     "text": [
      "    The percentage of predictions that matched previous results was : 100.00%\n",
      " ## Working with Files in test set\n"
     ]
    },
    {
     "data": {
      "application/vnd.jupyter.widget-view+json": {
       "model_id": "cbba49a85f704e8d9bfa9e2185e3a2d3",
       "version_major": 2,
       "version_minor": 0
      },
      "text/plain": [
       "Predicting:   0%|          | 0/160 [00:00<?, ?it/s]"
      ]
     },
     "metadata": {},
     "output_type": "display_data"
    },
    {
     "name": "stdout",
     "output_type": "stream",
     "text": [
      "    The percentage of predictions that matched previous results was : 100.00%\n",
      " ## Working with Files in train set\n"
     ]
    },
    {
     "data": {
      "application/vnd.jupyter.widget-view+json": {
       "model_id": "c473c4d312b244b4a30687773fb4ed8d",
       "version_major": 2,
       "version_minor": 0
      },
      "text/plain": [
       "Predicting:   0%|          | 0/1428 [00:00<?, ?it/s]"
      ]
     },
     "metadata": {},
     "output_type": "display_data"
    },
    {
     "name": "stdout",
     "output_type": "stream",
     "text": [
      "    The percentage of predictions that matched previous results was : 100.00%\n",
      "### Working with Ecuador User Transformer\n",
      "    Load Best Model\n"
     ]
    },
    {
     "name": "stderr",
     "output_type": "stream",
     "text": [
      "C:\\Users\\Ramon\\AppData\\Local\\Temp\\ipykernel_21488\\533658402.py:68: FutureWarning: You are using `torch.load` with `weights_only=False` (the current default value), which uses the default pickle module implicitly. It is possible to construct malicious pickle data which will execute arbitrary code during unpickling (See https://github.com/pytorch/pytorch/blob/main/SECURITY.md#untrusted-models for more details). In a future release, the default value for `weights_only` will be flipped to `True`. This limits the functions that could be executed during unpickling. Arbitrary objects will no longer be allowed to be loaded via this mode unless they are explicitly allowlisted by the user via `torch.serialization.add_safe_globals`. We recommend you start setting `weights_only=True` for any use case where you don't have full control of the loaded file. Please open an issue on GitHub for any issues related to this experimental feature.\n",
      "  user_classifier_sd = torch.load(os.path.join(best_dir, 'model_results.pth'), map_location=device)\n"
     ]
    },
    {
     "name": "stdout",
     "output_type": "stream",
     "text": [
      "Model loaded from <== E:\\OneDrive\\Research Group\\Papers\\Target_Stance_Classification\\Results\\Best_Models\\Ecuador\n",
      "### Predicting stances in country: Colombia\n",
      " ## Working with Files in val set\n"
     ]
    },
    {
     "data": {
      "application/vnd.jupyter.widget-view+json": {
       "model_id": "440b4309583447c9ab2e4ca2b2d3266d",
       "version_major": 2,
       "version_minor": 0
      },
      "text/plain": [
       "Predicting:   0%|          | 0/169 [00:00<?, ?it/s]"
      ]
     },
     "metadata": {},
     "output_type": "display_data"
    },
    {
     "name": "stdout",
     "output_type": "stream",
     "text": [
      "    The percentage of predictions that matched previous results was : 100.00%\n",
      " ## Working with Files in test set\n"
     ]
    },
    {
     "data": {
      "application/vnd.jupyter.widget-view+json": {
       "model_id": "a18a96434147494caa5267aa41cb6306",
       "version_major": 2,
       "version_minor": 0
      },
      "text/plain": [
       "Predicting:   0%|          | 0/156 [00:00<?, ?it/s]"
      ]
     },
     "metadata": {},
     "output_type": "display_data"
    },
    {
     "name": "stdout",
     "output_type": "stream",
     "text": [
      "    The percentage of predictions that matched previous results was : 100.00%\n",
      " ## Working with Files in train set\n"
     ]
    },
    {
     "data": {
      "application/vnd.jupyter.widget-view+json": {
       "model_id": "12a19f3d874043559d9bbee4c3c9567b",
       "version_major": 2,
       "version_minor": 0
      },
      "text/plain": [
       "Predicting:   0%|          | 0/1367 [00:00<?, ?it/s]"
      ]
     },
     "metadata": {},
     "output_type": "display_data"
    },
    {
     "name": "stdout",
     "output_type": "stream",
     "text": [
      "    The percentage of predictions that matched previous results was : 100.00%\n",
      "### Predicting stances in country: Chile\n",
      " ## Working with Files in val set\n"
     ]
    },
    {
     "data": {
      "application/vnd.jupyter.widget-view+json": {
       "model_id": "53facb291d3f4ff5aefadad38ffc47a6",
       "version_major": 2,
       "version_minor": 0
      },
      "text/plain": [
       "Predicting:   0%|          | 0/397 [00:00<?, ?it/s]"
      ]
     },
     "metadata": {},
     "output_type": "display_data"
    },
    {
     "name": "stdout",
     "output_type": "stream",
     "text": [
      "    The percentage of predictions that matched previous results was : 100.00%\n",
      " ## Working with Files in test set\n"
     ]
    },
    {
     "data": {
      "application/vnd.jupyter.widget-view+json": {
       "model_id": "51d0751d85fb4ca9a1d485b09f06a027",
       "version_major": 2,
       "version_minor": 0
      },
      "text/plain": [
       "Predicting:   0%|          | 0/361 [00:00<?, ?it/s]"
      ]
     },
     "metadata": {},
     "output_type": "display_data"
    },
    {
     "name": "stdout",
     "output_type": "stream",
     "text": [
      "    The percentage of predictions that matched previous results was : 100.00%\n",
      " ## Working with Files in train set\n"
     ]
    },
    {
     "data": {
      "application/vnd.jupyter.widget-view+json": {
       "model_id": "39cf00451688458eaac259a2583b367d",
       "version_major": 2,
       "version_minor": 0
      },
      "text/plain": [
       "Predicting:   0%|          | 0/3208 [00:00<?, ?it/s]"
      ]
     },
     "metadata": {},
     "output_type": "display_data"
    },
    {
     "name": "stdout",
     "output_type": "stream",
     "text": [
      "    The percentage of predictions that matched previous results was : 100.00%\n",
      "### Predicting stances in country: Bolivia\n",
      " ## Working with Files in val set\n"
     ]
    },
    {
     "data": {
      "application/vnd.jupyter.widget-view+json": {
       "model_id": "6778cab1207b4916869fd4447dcfabae",
       "version_major": 2,
       "version_minor": 0
      },
      "text/plain": [
       "Predicting:   0%|          | 0/177 [00:00<?, ?it/s]"
      ]
     },
     "metadata": {},
     "output_type": "display_data"
    },
    {
     "name": "stdout",
     "output_type": "stream",
     "text": [
      "    The percentage of predictions that matched previous results was : 100.00%\n",
      " ## Working with Files in test set\n"
     ]
    },
    {
     "data": {
      "application/vnd.jupyter.widget-view+json": {
       "model_id": "9998940d88174147955d335688369a3e",
       "version_major": 2,
       "version_minor": 0
      },
      "text/plain": [
       "Predicting:   0%|          | 0/160 [00:00<?, ?it/s]"
      ]
     },
     "metadata": {},
     "output_type": "display_data"
    },
    {
     "name": "stdout",
     "output_type": "stream",
     "text": [
      "    The percentage of predictions that matched previous results was : 100.00%\n",
      " ## Working with Files in train set\n"
     ]
    },
    {
     "data": {
      "application/vnd.jupyter.widget-view+json": {
       "model_id": "6b69297ce3ae4c6cae7542e22d314988",
       "version_major": 2,
       "version_minor": 0
      },
      "text/plain": [
       "Predicting:   0%|          | 0/1428 [00:00<?, ?it/s]"
      ]
     },
     "metadata": {},
     "output_type": "display_data"
    },
    {
     "name": "stdout",
     "output_type": "stream",
     "text": [
      "    The percentage of predictions that matched previous results was : 100.00%\n",
      "### Working with Bolivia User Transformer\n",
      "    Load Best Model\n"
     ]
    },
    {
     "name": "stderr",
     "output_type": "stream",
     "text": [
      "C:\\Users\\Ramon\\AppData\\Local\\Temp\\ipykernel_21488\\533658402.py:68: FutureWarning: You are using `torch.load` with `weights_only=False` (the current default value), which uses the default pickle module implicitly. It is possible to construct malicious pickle data which will execute arbitrary code during unpickling (See https://github.com/pytorch/pytorch/blob/main/SECURITY.md#untrusted-models for more details). In a future release, the default value for `weights_only` will be flipped to `True`. This limits the functions that could be executed during unpickling. Arbitrary objects will no longer be allowed to be loaded via this mode unless they are explicitly allowlisted by the user via `torch.serialization.add_safe_globals`. We recommend you start setting `weights_only=True` for any use case where you don't have full control of the loaded file. Please open an issue on GitHub for any issues related to this experimental feature.\n",
      "  user_classifier_sd = torch.load(os.path.join(best_dir, 'model_results.pth'), map_location=device)\n"
     ]
    },
    {
     "name": "stdout",
     "output_type": "stream",
     "text": [
      "Model loaded from <== E:\\OneDrive\\Research Group\\Papers\\Target_Stance_Classification\\Results\\Best_Models\\Bolivia\n",
      "### Predicting stances in country: Colombia\n",
      " ## Working with Files in val set\n"
     ]
    },
    {
     "data": {
      "application/vnd.jupyter.widget-view+json": {
       "model_id": "5968e2382e5a4e69bdafffc0e1004103",
       "version_major": 2,
       "version_minor": 0
      },
      "text/plain": [
       "Predicting:   0%|          | 0/169 [00:00<?, ?it/s]"
      ]
     },
     "metadata": {},
     "output_type": "display_data"
    },
    {
     "name": "stdout",
     "output_type": "stream",
     "text": [
      "    The percentage of predictions that matched previous results was : 100.00%\n",
      " ## Working with Files in test set\n"
     ]
    },
    {
     "data": {
      "application/vnd.jupyter.widget-view+json": {
       "model_id": "193c3fe88bbc4ad2999ea7ea091aa170",
       "version_major": 2,
       "version_minor": 0
      },
      "text/plain": [
       "Predicting:   0%|          | 0/156 [00:00<?, ?it/s]"
      ]
     },
     "metadata": {},
     "output_type": "display_data"
    },
    {
     "name": "stdout",
     "output_type": "stream",
     "text": [
      "    The percentage of predictions that matched previous results was : 100.00%\n",
      " ## Working with Files in train set\n"
     ]
    },
    {
     "data": {
      "application/vnd.jupyter.widget-view+json": {
       "model_id": "f72c965bc79349fbb94c72fe7e1501dd",
       "version_major": 2,
       "version_minor": 0
      },
      "text/plain": [
       "Predicting:   0%|          | 0/1367 [00:00<?, ?it/s]"
      ]
     },
     "metadata": {},
     "output_type": "display_data"
    },
    {
     "name": "stdout",
     "output_type": "stream",
     "text": [
      "    The percentage of predictions that matched previous results was : 100.00%\n",
      "### Predicting stances in country: Chile\n",
      " ## Working with Files in val set\n"
     ]
    },
    {
     "data": {
      "application/vnd.jupyter.widget-view+json": {
       "model_id": "8e5897c0d8094ecebe51398575eb12a6",
       "version_major": 2,
       "version_minor": 0
      },
      "text/plain": [
       "Predicting:   0%|          | 0/397 [00:00<?, ?it/s]"
      ]
     },
     "metadata": {},
     "output_type": "display_data"
    },
    {
     "name": "stdout",
     "output_type": "stream",
     "text": [
      "    The percentage of predictions that matched previous results was : 100.00%\n",
      " ## Working with Files in test set\n"
     ]
    },
    {
     "data": {
      "application/vnd.jupyter.widget-view+json": {
       "model_id": "2fc2c94b5563421e97ef6dbeed033570",
       "version_major": 2,
       "version_minor": 0
      },
      "text/plain": [
       "Predicting:   0%|          | 0/361 [00:00<?, ?it/s]"
      ]
     },
     "metadata": {},
     "output_type": "display_data"
    },
    {
     "name": "stdout",
     "output_type": "stream",
     "text": [
      "    The percentage of predictions that matched previous results was : 100.00%\n",
      " ## Working with Files in train set\n"
     ]
    },
    {
     "data": {
      "application/vnd.jupyter.widget-view+json": {
       "model_id": "769939d3f02944fd87290e39b915b47c",
       "version_major": 2,
       "version_minor": 0
      },
      "text/plain": [
       "Predicting:   0%|          | 0/3208 [00:00<?, ?it/s]"
      ]
     },
     "metadata": {},
     "output_type": "display_data"
    },
    {
     "name": "stdout",
     "output_type": "stream",
     "text": [
      "    The percentage of predictions that matched previous results was : 100.00%\n",
      "### Predicting stances in country: Ecuador\n",
      " ## Working with Files in val set\n"
     ]
    },
    {
     "data": {
      "application/vnd.jupyter.widget-view+json": {
       "model_id": "5864219fb1b04a53a86b719194f29fa3",
       "version_major": 2,
       "version_minor": 0
      },
      "text/plain": [
       "Predicting:   0%|          | 0/121 [00:00<?, ?it/s]"
      ]
     },
     "metadata": {},
     "output_type": "display_data"
    },
    {
     "name": "stdout",
     "output_type": "stream",
     "text": [
      "    The percentage of predictions that matched previous results was : 100.00%\n",
      " ## Working with Files in test set\n"
     ]
    },
    {
     "data": {
      "application/vnd.jupyter.widget-view+json": {
       "model_id": "0a994572b4914dbb9ad8afa05e4c9aa5",
       "version_major": 2,
       "version_minor": 0
      },
      "text/plain": [
       "Predicting:   0%|          | 0/111 [00:00<?, ?it/s]"
      ]
     },
     "metadata": {},
     "output_type": "display_data"
    },
    {
     "name": "stdout",
     "output_type": "stream",
     "text": [
      "    The percentage of predictions that matched previous results was : 100.00%\n",
      " ## Working with Files in train set\n"
     ]
    },
    {
     "data": {
      "application/vnd.jupyter.widget-view+json": {
       "model_id": "b7c66d7bf8804a7bb6ade34d73183589",
       "version_major": 2,
       "version_minor": 0
      },
      "text/plain": [
       "Predicting:   0%|          | 0/973 [00:00<?, ?it/s]"
      ]
     },
     "metadata": {},
     "output_type": "display_data"
    },
    {
     "name": "stdout",
     "output_type": "stream",
     "text": [
      "    The percentage of predictions that matched previous results was : 100.00%\n"
     ]
    }
   ],
   "source": [
    "from UserModules.StanceDataset import *\n",
    "from torch.utils.data import Dataset, DataLoader\n",
    "# Load BERT Tokenizer\n",
    "import torch, numpy as np, random, os\n",
    "from UserModules.ModelConfiguration import *\n",
    "from UserModules.UserClassifier import User_Stance_Classifier, User_Embedding_Classifier\n",
    "\n",
    "countries = ['Colombia', 'Chile', 'Ecuador', 'Bolivia']\n",
    "## Global Parameters\n",
    "MAX_SEQ_LEN, MAX_TW_LEN = 128, 15\n",
    "BATCH_SIZE = 64\n",
    "SEED = 1911\n",
    "INTERACTION_TYPES = ['<cls>', '<pad>', 'Original', 'Quote', 'Reply', 'Retweet']\n",
    "num_workers = 0\n",
    "device = torch.device(\"cuda:0\" if torch.cuda.is_available() else \"cpu\")\n",
    "workDir = r''\n",
    "\n",
    "for COUNTRY in countries:\n",
    "    embDir = r'{}\\Results\\Predictions\\Main_Predictions\\{}'.format(workDir, COUNTRY)\n",
    "    outDir = r'{}\\{}'.format(workDir, COUNTRY)\n",
    "    if not os.path.isdir(outDir):\n",
    "        os.mkdir(outDir)\n",
    "\n",
    "    print(f'### Working with {COUNTRY} User Transformer')\n",
    "    # Load Model\n",
    "    tweet_enc_args = {\n",
    "        'Model_Dir': r'{}\\RoBETO_Weights'.format(workDir), \n",
    "        'dropout': 0.1,\n",
    "        'activation': 'Tanh',\n",
    "        'freeze_bert_embeddings': True\n",
    "    }\n",
    "    \n",
    "    tweetConfig = RoBERTaEncoderConfig(**tweet_enc_args)\n",
    "    \n",
    "    emb_params = {\n",
    "        'cls_idx': INTERACTION_TYPES.index('<cls>'),\n",
    "        'pad_idx': INTERACTION_TYPES.index('<pad>'),\n",
    "        'max_tweet_number': MAX_TW_LEN,\n",
    "        'dropout': 0.1,\n",
    "        'layer_norm_eps': 1e-12,\n",
    "        'tweet_type_number': len(INTERACTION_TYPES),\n",
    "        'mask_embeddings': True\n",
    "    }    \n",
    "    embConfig = ModelEmbeddingsConfig(tweetConfig, **emb_params)\n",
    "    \n",
    "    user_params = { # This are the default parameters in UserEncoderConfig\n",
    "        'num_attention_heads': 6,\n",
    "        'intermidiate_size': 2048,\n",
    "        'num_encoder_layers': 3,\n",
    "        'transformer_activation': 'gelu',\n",
    "        'user_activation': 'Tanh',\n",
    "        'dropout': 0.1, \n",
    "        'initializer_range': 0.02,\n",
    "        'model_embedder_version': 'v3' # v3 leaves the CLS parameter for the type embeddings    \n",
    "    }\n",
    "    userConfig = UserEncoderConfig(embConfig, **user_params)\n",
    "    \n",
    "    # Instantiate model\n",
    "    model = User_Embedding_Classifier(num_classes = 2, user_config = userConfig)    \n",
    "    model.to(device)\n",
    "\n",
    "    print(f'    Load Best Model')\n",
    "    best_dir = r'{}\\Best_Models\\{}'.format(workDir, COUNTRY)\n",
    "    \n",
    "    user_classifier_sd = torch.load(os.path.join(best_dir, 'model_results.pth'), map_location=device)\n",
    "    print(f'Model loaded from <== {best_dir}')\n",
    "\n",
    "    # Set weights from best model for country\n",
    "    model.load_weights_from_User_Stance_Classifier(user_classifier_sd)\n",
    "    \n",
    "    for other_country in countries:\n",
    "        if other_country == COUNTRY:   continue\n",
    "        print('### Predicting stances in country: ' + other_country)\n",
    "\n",
    "        # Load Input data\n",
    "        embDir = r'{}\\Results\\Predictions\\Cross_Predictions\\{}_Classifier'.format(workDir, COUNTRY)\n",
    "                  \n",
    "        data_keys = {'train', 'test', 'val'}\n",
    "        for key in data_keys:\n",
    "            set_seed(SEED)\n",
    "            print(f' ## Working with Files in {key} set')\n",
    "            # Set Data Files\n",
    "            userLabelsFile = r'{}\\{}_{}_predictions.csv'.format(embDir, other_country, key)\n",
    "            embFile = r'{}\\{}_{}_embeddings.pt'.format(embDir, other_country, key)\n",
    "            \n",
    "            data = EmbeddingDataset(userLabelsFile, embFile, label_column = 'true_label')\n",
    "            data_loader =  DataLoader(data, batch_size = BATCH_SIZE, num_workers=num_workers, \n",
    "                                      collate_fn = data._embedding_datacollator, shuffle = True)    \n",
    "    \n",
    "            resultsDF = predict(model, data_loader)\n",
    "        \n",
    "            # Validate the results\n",
    "            previous_answers = pd.read_csv(userLabelsFile, dtype = {'user_id': str}).rename(columns = {'predicted_label': 'old_prediction'})\n",
    "            temp = pd.merge(resultsDF, previous_answers, on = 'user_id')\n",
    "        \n",
    "            print(f'    The percentage of predictions that matched previous results was : {(temp.predicted_label == temp.old_prediction).sum() / len(temp):.2%}')\n",
    "        \n",
    "            # Save Results\n",
    "            resultsDF.to_csv(r'{}\\{}_{}_predictions.csv'.format(outDir, other_country, key), index = False)\n",
    "    \n",
    "    del(model, resultsDF, data, temp)\n",
    "    torch.cuda.empty_cache()\n",
    "    \n"
   ]
  },
  {
   "cell_type": "markdown",
   "id": "72b93d6b-976c-4d1a-9baf-9fbac56e7f89",
   "metadata": {},
   "source": [
    "## Chilean Referendum"
   ]
  },
  {
   "cell_type": "code",
   "execution_count": 7,
   "id": "f7944d97-2248-4153-a1f5-22b106a41255",
   "metadata": {},
   "outputs": [
    {
     "name": "stdout",
     "output_type": "stream",
     "text": [
      "### Working with Chile User Transformer\n",
      "    Load Best Model\n"
     ]
    },
    {
     "name": "stderr",
     "output_type": "stream",
     "text": [
      "C:\\Users\\Ramon\\AppData\\Local\\Temp\\ipykernel_13484\\303546991.py:67: FutureWarning: You are using `torch.load` with `weights_only=False` (the current default value), which uses the default pickle module implicitly. It is possible to construct malicious pickle data which will execute arbitrary code during unpickling (See https://github.com/pytorch/pytorch/blob/main/SECURITY.md#untrusted-models for more details). In a future release, the default value for `weights_only` will be flipped to `True`. This limits the functions that could be executed during unpickling. Arbitrary objects will no longer be allowed to be loaded via this mode unless they are explicitly allowlisted by the user via `torch.serialization.add_safe_globals`. We recommend you start setting `weights_only=True` for any use case where you don't have full control of the loaded file. Please open an issue on GitHub for any issues related to this experimental feature.\n",
      "  user_classifier_sd = torch.load(os.path.join(best_dir, 'model_results.pth'), map_location=device)\n"
     ]
    },
    {
     "name": "stdout",
     "output_type": "stream",
     "text": [
      "Model loaded from <== C:\\Users\\Ramon\\OneDrive\\Research Group\\Papers\\Target_Stance_Classification\\Results\\Best_Models\\Chile\n",
      " ## Working with Files in test set\n"
     ]
    },
    {
     "data": {
      "application/vnd.jupyter.widget-view+json": {
       "model_id": "1d73b64e56a049888a095ec654a91bf9",
       "version_major": 2,
       "version_minor": 0
      },
      "text/plain": [
       "Predicting:   0%|          | 0/53 [00:00<?, ?it/s]"
      ]
     },
     "metadata": {},
     "output_type": "display_data"
    },
    {
     "name": "stdout",
     "output_type": "stream",
     "text": [
      "    The percentage of predictions that matched previous results was : 100.00%\n",
      " ## Working with Files in val set\n"
     ]
    },
    {
     "data": {
      "application/vnd.jupyter.widget-view+json": {
       "model_id": "e076bfab09a948fd9a0ac397ae23fb23",
       "version_major": 2,
       "version_minor": 0
      },
      "text/plain": [
       "Predicting:   0%|          | 0/40 [00:00<?, ?it/s]"
      ]
     },
     "metadata": {},
     "output_type": "display_data"
    },
    {
     "name": "stdout",
     "output_type": "stream",
     "text": [
      "    The percentage of predictions that matched previous results was : 100.00%\n",
      " ## Working with Files in train set\n"
     ]
    },
    {
     "data": {
      "application/vnd.jupyter.widget-view+json": {
       "model_id": "466ccd395e2449f6b7da2e99afbda51c",
       "version_major": 2,
       "version_minor": 0
      },
      "text/plain": [
       "Predicting:   0%|          | 0/239 [00:00<?, ?it/s]"
      ]
     },
     "metadata": {},
     "output_type": "display_data"
    },
    {
     "name": "stdout",
     "output_type": "stream",
     "text": [
      "    The percentage of predictions that matched previous results was : 100.00%\n"
     ]
    }
   ],
   "source": [
    "from UserModules.StanceDataset import *\n",
    "from torch.utils.data import Dataset, DataLoader\n",
    "# Load BERT Tokenizer\n",
    "import torch, numpy as np, random, os\n",
    "from UserModules.ModelConfiguration import *\n",
    "from UserModules.UserClassifier import User_Stance_Classifier, User_Embedding_Classifier\n",
    "\n",
    "## Global Parameters\n",
    "MAX_SEQ_LEN, MAX_TW_LEN = 128, 15\n",
    "BATCH_SIZE = 64\n",
    "SEED = 1911\n",
    "INTERACTION_TYPES = ['<cls>', '<pad>', 'Original', 'Quote', 'Reply', 'Retweet']\n",
    "num_workers = 0\n",
    "device = torch.device(\"cuda:0\" if torch.cuda.is_available() else \"cpu\")\n",
    "\n",
    "workDir = r''\n",
    "\n",
    "COUNTRY  = 'Chile'\n",
    "embDir = r'{}\\Results\\Predictions\\Chile_Referendum'.format(workDir)\n",
    "outDir = r'{}\\Results\\Predictions\\Revisions\\Chilean_Referendum'.format(workDir)\n",
    "if not os.path.isdir(outDir):\n",
    "    os.mkdir(outDir)\n",
    "\n",
    "print(f'### Working with {COUNTRY} User Transformer')\n",
    "# Load Model\n",
    "tweet_enc_args = {\n",
    "    'Model_Dir': r'{}\\RoBETO_Weights'.format(oneDriveDir), \n",
    "    'dropout': 0.1,\n",
    "    'activation': 'Tanh',\n",
    "    'freeze_bert_embeddings': True\n",
    "}\n",
    "\n",
    "tweetConfig = RoBERTaEncoderConfig(**tweet_enc_args)\n",
    "\n",
    "emb_params = {\n",
    "    'cls_idx': INTERACTION_TYPES.index('<cls>'),\n",
    "    'pad_idx': INTERACTION_TYPES.index('<pad>'),\n",
    "    'max_tweet_number': MAX_TW_LEN,\n",
    "    'dropout': 0.1,\n",
    "    'layer_norm_eps': 1e-12,\n",
    "    'tweet_type_number': len(INTERACTION_TYPES),\n",
    "    'mask_embeddings': True\n",
    "}    \n",
    "embConfig = ModelEmbeddingsConfig(tweetConfig, **emb_params)\n",
    "\n",
    "user_params = { # This are the default parameters in UserEncoderConfig\n",
    "    'num_attention_heads': 6,\n",
    "    'intermidiate_size': 2048,\n",
    "    'num_encoder_layers': 3,\n",
    "    'transformer_activation': 'gelu',\n",
    "    'user_activation': 'Tanh',\n",
    "    'dropout': 0.1, \n",
    "    'initializer_range': 0.02,\n",
    "    'model_embedder_version': 'v3' # v3 leaves the CLS parameter for the type embeddings    \n",
    "}\n",
    "userConfig = UserEncoderConfig(embConfig, **user_params)\n",
    "\n",
    "# Instantiate model\n",
    "model = User_Embedding_Classifier(num_classes = 2, user_config = userConfig)    \n",
    "model.to(device)\n",
    "\n",
    "print(f'    Load Best Model')\n",
    "best_dir = r'{}\\Results\\Best_Models\\{}'.format(oneDriveDir, COUNTRY)\n",
    "\n",
    "user_classifier_sd = torch.load(os.path.join(best_dir, 'model_results.pth'), map_location=device)\n",
    "print(f'Model loaded from <== {best_dir}')\n",
    "\n",
    "# Set weights from best model for country\n",
    "model.load_weights_from_User_Stance_Classifier(user_classifier_sd)\n",
    "\n",
    "data_keys = {'train', 'test', 'val'}\n",
    "for key in data_keys:\n",
    "    set_seed(SEED)\n",
    "    print(f' ## Working with Files in {key} set')\n",
    "    # Set Data Files\n",
    "    userLabelsFile = r'{}\\{}_predictions.csv'.format(embDir, key)\n",
    "    embFile = r'{}\\{}_embeddings.pt'.format(embDir, key)\n",
    "    \n",
    "    data = EmbeddingDataset(userLabelsFile, embFile, label_column = 'true_label')\n",
    "    data_loader =  DataLoader(data, batch_size = BATCH_SIZE, num_workers=num_workers, \n",
    "                              collate_fn = data._embedding_datacollator, shuffle = True)    \n",
    "\n",
    "    resultsDF = predict(model, data_loader)\n",
    "\n",
    "    # Validate the results\n",
    "    previous_answers = pd.read_csv(userLabelsFile, dtype = {'user_id': str}).rename(columns = {'predicted_label': 'old_prediction'})\n",
    "    temp = pd.merge(resultsDF, previous_answers, on = 'user_id')\n",
    "\n",
    "    print(f'    The percentage of predictions that matched previous results was : {(temp.predicted_label == temp.old_prediction).sum() / len(temp):.2%}')\n",
    "\n",
    "    # Save Results\n",
    "    resultsDF.to_csv(r'{}\\User_Transformer_{}_predictions.csv'.format(outDir, key), index = False)\n"
   ]
  },
  {
   "cell_type": "code",
   "execution_count": null,
   "id": "1b6bac83-9c53-4d0c-ac72-17c3bc526fd8",
   "metadata": {},
   "outputs": [],
   "source": []
  }
 ],
 "metadata": {
  "kernelspec": {
   "display_name": "Python 3 (ipykernel)",
   "language": "python",
   "name": "python3"
  },
  "language_info": {
   "codemirror_mode": {
    "name": "ipython",
    "version": 3
   },
   "file_extension": ".py",
   "mimetype": "text/x-python",
   "name": "python",
   "nbconvert_exporter": "python",
   "pygments_lexer": "ipython3",
   "version": "3.12.4"
  }
 },
 "nbformat": 4,
 "nbformat_minor": 5
}
